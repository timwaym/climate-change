{
 "cells": [
  {
   "cell_type": "code",
   "execution_count": 26,
   "metadata": {
    "metadata": {}
   },
   "outputs": [],
   "source": [
    "import matplotlib.pyplot as plt\n",
    "import numpy as np\n",
    "import pandas as pd\n",
    "from sklearn.preprocessing import PolynomialFeatures\n",
    "from sklearn.linear_model import LinearRegression\n",
    "from sklearn.pipeline import make_pipeline\n",
    "\n",
    "%matplotlib qt"
   ]
  },
  {
   "cell_type": "markdown",
   "metadata": {},
   "source": [
    "### Load in Annual Surface Temperature Change Data"
   ]
  },
  {
   "cell_type": "code",
   "execution_count": 27,
   "metadata": {
    "metadata": {}
   },
   "outputs": [],
   "source": [
    "# Annual Surface Temperature Change Data\n",
    "AST = pd.read_csv(\"Annual_Surface_Temperature_Change.csv\")\n",
    "\n",
    "\n",
    "years = np.arange(1961, 2023)[:, np.newaxis]\n",
    "# World Data\n",
    "deltaST_world = AST[AST['Country'] == 'World'].loc[:, 'F1961':'F2022'].values.reshape(-1,1)\n",
    "deltaST_greenland = AST[AST['Country'] == 'Greenland'].loc[:, 'F1961':'F2022'].values.reshape(-1,1)\n"
   ]
  },
  {
   "cell_type": "markdown",
   "metadata": {},
   "source": [
    "### Create Polynomial Regression Model"
   ]
  },
  {
   "cell_type": "code",
   "execution_count": 28,
   "metadata": {
    "metadata": {}
   },
   "outputs": [],
   "source": [
    "# Create a polynomial regression model\n",
    "\n",
    "degree = 2\n",
    "polyreg_model = make_pipeline(PolynomialFeatures(degree), LinearRegression())"
   ]
  },
  {
   "cell_type": "markdown",
   "metadata": {},
   "source": [
    "### Fit Model to Change in World Surface Temperature Data"
   ]
  },
  {
   "cell_type": "code",
   "execution_count": 29,
   "metadata": {
    "metadata": {}
   },
   "outputs": [],
   "source": [
    "\n",
    "polyreg_model.fit(years, deltaST_world)\n",
    "pred_yrsST = np.linspace(1961, 2023)[:, np.newaxis]\n",
    "deltaSTW_fit = polyreg_model.predict(pred_yrsST)"
   ]
  },
  {
   "cell_type": "code",
   "execution_count": 30,
   "metadata": {
    "metadata": {}
   },
   "outputs": [],
   "source": [
    "plt.clf()\n",
    "\n",
    "plt.figure(1)\n",
    "plt.plot(years, deltaST_world)\n",
    "plt.plot(pred_yrsST, deltaSTW_fit)\n",
    "plt.title(\"Change in World Surface Temperature\")\n",
    "plt.xlabel('Year')\n",
    "plt.ylabel('Change in Surface Temperature $[^oC]$')\n",
    "plt.grid('minor')\n",
    "plt.show()\n"
   ]
  },
  {
   "cell_type": "code",
   "execution_count": 31,
   "metadata": {
    "metadata": {}
   },
   "outputs": [
    {
     "name": "stderr",
     "output_type": "stream",
     "text": [
      "No artists with labels found to put in legend.  Note that artists whose label start with an underscore are ignored when legend() is called with no argument.\n"
     ]
    }
   ],
   "source": [
    "coefficients = polyreg_model.named_steps['linearregression'].coef_.reshape(-1,1)\n",
    "\n",
    "# Derivative function\n",
    "def polynomial_derivative(x):\n",
    "    return sum(coefficients[j] * j * x**(j-1) for j in range(1, len(coefficients)))\n",
    "\n",
    "# Generate points for evaluation\n",
    "\n",
    "AST_derivative = np.array([polynomial_derivative(xi) for xi in pred_yrsST])\n",
    "\n",
    "# Plotting the derivative\n",
    "plt.figure(2)\n",
    "plt.plot(pred_yrsST, AST_derivative)\n",
    "plt.title(\"Change in Annual Surface Temperatures\")\n",
    "plt.xlabel(\"Years\")\n",
    "plt.ylabel(\"Rate of Change [$^oC$ / yr]\")\n",
    "plt.legend()\n",
    "plt.grid(True)\n",
    "plt.show()"
   ]
  },
  {
   "cell_type": "markdown",
   "metadata": {},
   "source": [
    "### Load in Atmospheric CO2 Concentrations"
   ]
  },
  {
   "cell_type": "code",
   "execution_count": 32,
   "metadata": {
    "metadata": {}
   },
   "outputs": [],
   "source": [
    "CO2 = pd.read_csv(\"Atmospheric_CO₂_Concentrations.csv\")\n",
    "CO2_ppm = CO2[(CO2['Unit'] == 'Parts Per Million') & (CO2['Date'].str.contains('M12'))]['Value'].values.reshape(-1,1)\n",
    "\n",
    "yrsCO2 = np.arange(1958, 2024)[:, np.newaxis]\n",
    "\n"
   ]
  },
  {
   "cell_type": "markdown",
   "metadata": {},
   "source": [
    "### Fit Model to CO2 Concentrations"
   ]
  },
  {
   "cell_type": "code",
   "execution_count": 33,
   "metadata": {
    "metadata": {}
   },
   "outputs": [],
   "source": [
    "polyreg_model.fit(yrsCO2, CO2_ppm)\n",
    "pred_yrsCO2 = np.linspace(1961, 2023)[:, np.newaxis]\n",
    "CO2_ppm_fit = polyreg_model.predict(pred_yrsCO2)"
   ]
  },
  {
   "cell_type": "code",
   "execution_count": 34,
   "metadata": {
    "metadata": {}
   },
   "outputs": [],
   "source": [
    "\n",
    "\n",
    "plt.figure(3)\n",
    "plt.plot(yrsCO2, CO2_ppm)\n",
    "plt.plot(pred_yrsCO2, CO2_ppm_fit)\n",
    "plt.title(\"CO2 Concentrations\")\n",
    "plt.xlabel('Year')\n",
    "plt.ylabel('CO2 in Atmosphere [PPM]')\n",
    "plt.grid('minor')\n",
    "plt.show()"
   ]
  },
  {
   "cell_type": "code",
   "execution_count": 35,
   "metadata": {
    "metadata": {}
   },
   "outputs": [
    {
     "name": "stderr",
     "output_type": "stream",
     "text": [
      "No artists with labels found to put in legend.  Note that artists whose label start with an underscore are ignored when legend() is called with no argument.\n"
     ]
    }
   ],
   "source": [
    "coefficients = polyreg_model.named_steps['linearregression'].coef_.reshape(-1,1)\n",
    "\n",
    "# Generate points for evaluation\n",
    "\n",
    "CO2_derivative = np.array([polynomial_derivative(xi) for xi in pred_yrsCO2])\n",
    "\n",
    "# Plotting the derivative\n",
    "plt.figure(4)\n",
    "plt.plot(pred_yrsCO2, CO2_derivative)\n",
    "plt.title(\"Change in CO2 Concentrations\")\n",
    "plt.xlabel(\"Years\")\n",
    "plt.ylabel(\"Rate of Change [ppm / yr]\")\n",
    "plt.legend()\n",
    "plt.grid(True)\n",
    "plt.show()"
   ]
  },
  {
   "cell_type": "markdown",
   "metadata": {},
   "source": [
    "### Correlation Analysis Temperatures and CO2 Concentrations"
   ]
  },
  {
   "cell_type": "code",
   "execution_count": 36,
   "metadata": {
    "metadata": {}
   },
   "outputs": [
    {
     "name": "stdout",
     "output_type": "stream",
     "text": [
      "Pearson correlation coefficient:\n",
      "              temperatures       CO2\n",
      "temperatures      1.000000  0.940941\n",
      "CO2               0.940941  1.000000\n",
      "\n",
      "Spearman correlation coefficient:\n",
      "              temperatures       CO2\n",
      "temperatures      1.000000  0.926883\n",
      "CO2               0.926883  1.000000\n",
      "\n",
      "Kendall correlation coefficient:\n",
      "              temperatures       CO2\n",
      "temperatures      1.000000  0.771225\n",
      "CO2               0.771225  1.000000\n"
     ]
    },
    {
     "name": "stderr",
     "output_type": "stream",
     "text": [
      "C:\\Users\\damia\\AppData\\Local\\Temp\\ipykernel_26120\\3548429341.py:1: DeprecationWarning: Conversion of an array with ndim > 0 to a scalar is deprecated, and will error in future. Ensure you extract a single element from your array before performing this operation. (Deprecated NumPy 1.25.)\n",
      "  deltaST_world = list(map(float, deltaST_world))\n",
      "C:\\Users\\damia\\AppData\\Local\\Temp\\ipykernel_26120\\3548429341.py:2: DeprecationWarning: Conversion of an array with ndim > 0 to a scalar is deprecated, and will error in future. Ensure you extract a single element from your array before performing this operation. (Deprecated NumPy 1.25.)\n",
      "  CO2_ppmList = list(map(float, CO2_ppm[4:]))\n"
     ]
    }
   ],
   "source": [
    "deltaST_world = list(map(float, deltaST_world))\n",
    "CO2_ppmList = list(map(float, CO2_ppm[4:]))\n",
    "\n",
    "df = pd.DataFrame({'temperatures': deltaST_world, \n",
    "                'CO2': CO2_ppmList})\n",
    "\n",
    "\n",
    "# Calculate Pearson correlation\n",
    "pearson_corr = df.corr(method='pearson')\n",
    "\n",
    "# Calculate Spearman correlation\n",
    "spearman_corr = df.corr(method='spearman')\n",
    "\n",
    "# Calculate Kendall correlation\n",
    "kendall_corr = df.corr(method='kendall')\n",
    "\n",
    "# Print the correlation coefficients\n",
    "print(\"Pearson correlation coefficient:\")\n",
    "print(pearson_corr)\n",
    "\n",
    "print(\"\\nSpearman correlation coefficient:\")\n",
    "print(spearman_corr)\n",
    "\n",
    "print(\"\\nKendall correlation coefficient:\")\n",
    "print(kendall_corr)"
   ]
  },
  {
   "cell_type": "code",
   "execution_count": 37,
   "metadata": {
    "metadata": {}
   },
   "outputs": [],
   "source": [
    "# Create some mock data\n",
    "fig, ax1 = plt.subplots()\n",
    "\n",
    "color = 'tab:red'\n",
    "ax1.set_xlabel('Year')\n",
    "ax1.set_ylabel('Change in Surface Temperature $[^oC]$', color=color)\n",
    "ax1.plot(pred_yrsST, deltaSTW_fit, color=color)\n",
    "ax1.tick_params(axis='y', labelcolor=color)\n",
    "\n",
    "ax2 = ax1.twinx()  # instantiate a second axes that shares the same x-axis\n",
    "\n",
    "color = 'tab:blue'\n",
    "ax2.set_ylabel('CO2 in Atmosphere [PPM]', color=color)  # we already handled the x-label with ax1\n",
    "ax2.plot(pred_yrsST, CO2_ppm_fit, color=color)\n",
    "ax2.tick_params(axis='y', labelcolor=color)\n",
    "\n",
    "#fig.tight_layout()  # otherwise the right y-label is slightly clipped\n",
    "plt.title(\"Regression Lines Overlaid\")\n",
    "plt.show()\n"
   ]
  },
  {
   "cell_type": "code",
   "execution_count": null,
   "metadata": {},
   "outputs": [],
   "source": []
  }
 ],
 "metadata": {
  "kernelspec": {
   "display_name": "base",
   "language": "python",
   "name": "python3"
  },
  "language_info": {
   "codemirror_mode": {
    "name": "ipython",
    "version": 3
   },
   "file_extension": ".py",
   "mimetype": "text/x-python",
   "name": "python",
   "nbconvert_exporter": "python",
   "pygments_lexer": "ipython3",
   "version": "3.9.19"
  }
 },
 "nbformat": 4,
 "nbformat_minor": 2
}
